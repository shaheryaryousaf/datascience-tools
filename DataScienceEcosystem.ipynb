{
 "cells": [
  {
   "cell_type": "markdown",
   "id": "f35e4587-647b-4876-a2df-e3c259d8a6cf",
   "metadata": {},
   "source": [
    "# Data Science Tools and Ecosystem"
   ]
  },
  {
   "cell_type": "markdown",
   "id": "a2b1881f-630c-4755-9c8f-8f65701f6a46",
   "metadata": {},
   "source": [
    "In this notebook, Data Science Tools and Ecosystem are summarized."
   ]
  },
  {
   "cell_type": "markdown",
   "id": "dc225b41-4b04-4c9b-8a46-bd0e25cad500",
   "metadata": {},
   "source": [
    "**Objectives:**\n",
    "* List of popular languages for Data Science\n",
    "* List of commonly used libraries for Data Science\n",
    "* List of Development Environment and Tools for Data Science\n",
    "* How to use arithmetic operators in Jupyter Notebook\n",
    "* Simple arithmetic expression to multiply"
   ]
  },
  {
   "cell_type": "markdown",
   "id": "9532d638-d050-4a17-8cc6-c716d35e86ff",
   "metadata": {},
   "source": [
    "Some of the popular languages that Data Scientists use are:\n",
    "\n",
    "1. Python\n",
    "2. R\n",
    "3. Java\n",
    "4. Scala\n",
    "5. Julia\n",
    "6. C++\n",
    "7. SQL"
   ]
  },
  {
   "cell_type": "markdown",
   "id": "d3c7c3ac-da0c-4f64-be37-d5730ca569af",
   "metadata": {},
   "source": [
    "Some of the commonly used libraries used by Data Scientists include:\n",
    "\n",
    "1. Pandas\n",
    "2. Numpy\n",
    "3. Seaborn\n",
    "4. Matplotlib\n",
    "5. Tensorflow\n",
    "6. Keras\n",
    "7. Scikit-learn\n",
    "8. Pytorch\n",
    "9. Vegas\n",
    "10. Big DL\n",
    "11. ggplot2\n",
    "12. Apache Spark"
   ]
  },
  {
   "cell_type": "markdown",
   "id": "af8135d4-e6a3-4893-a787-50b7660618f7",
   "metadata": {},
   "source": [
    "| Data Science Tools |\n",
    "| --- |\n",
    "| Jupyter |\n",
    "| RStudio |\n",
    "| Anaconda |"
   ]
  },
  {
   "cell_type": "markdown",
   "id": "a0b181bd-46b2-4082-b76e-0f8df4d0f817",
   "metadata": {},
   "source": [
    "### Below are a few examples of evaluating arithmetic expressions in Python"
   ]
  },
  {
   "cell_type": "code",
   "execution_count": 1,
   "id": "f67f6783-e896-4ccf-9306-d5cf040a5dc2",
   "metadata": {
    "tags": []
   },
   "outputs": [
    {
     "data": {
      "text/plain": [
       "17"
      ]
     },
     "execution_count": 1,
     "metadata": {},
     "output_type": "execute_result"
    }
   ],
   "source": [
    "# This a simple arithmetic expression to mutiply then add integers\n",
    "(3*4)+5"
   ]
  },
  {
   "cell_type": "code",
   "execution_count": 3,
   "id": "cb8339ad-06bf-43dd-9135-9ce9fdf1433c",
   "metadata": {
    "tags": []
   },
   "outputs": [
    {
     "data": {
      "text/plain": [
       "3.3333333333333335"
      ]
     },
     "execution_count": 3,
     "metadata": {},
     "output_type": "execute_result"
    }
   ],
   "source": [
    "# This will convert 200 minutes to hours by diving by 60.\n",
    "\n",
    "200 / 60"
   ]
  },
  {
   "cell_type": "markdown",
   "id": "6f1e94e5-bfee-47da-90ca-957a1adafba2",
   "metadata": {},
   "source": [
    "## Author\n",
    "Shaheryar Yousaf"
   ]
  }
 ],
 "metadata": {
  "kernelspec": {
   "display_name": "Python",
   "language": "python",
   "name": "conda-env-python-py"
  },
  "language_info": {
   "codemirror_mode": {
    "name": "ipython",
    "version": 3
   },
   "file_extension": ".py",
   "mimetype": "text/x-python",
   "name": "python",
   "nbconvert_exporter": "python",
   "pygments_lexer": "ipython3",
   "version": "3.7.12"
  }
 },
 "nbformat": 4,
 "nbformat_minor": 5
}
